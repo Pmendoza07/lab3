{
 "cells": [
  {
   "cell_type": "markdown",
   "metadata": {},
   "source": [
    "## 1st user story\n",
    "- short bio\n",
    "- education history \n",
    "- job experience \n",
    "- any goals\n",
    "\n",
    "-two truths and a lie \n",
    " - lie: like people\n",
    " - truth: I like Ms.nell\n",
    " - truth: Eve is a giant <3\n",
    "\n",
    "-5 yes or no questions \n",
    "- Do we need money? in others words we are all broke right?;)\n",
    "- should we dip school?\n",
    "- Is eve a monster?\n",
    "- is eve an ADDICT to her phone? \n",
    "- Does jordan look grumpy? \n",
    "## 2nd user story \n",
    "- ask users name through a prompt \n",
    "- use the users name in a greating \n",
    "- display the name back to them in our final \n",
    "\n",
    "## syntan\n",
    "- must have a stric line (at the top)\n",
    "- the css and the js to be external "
   ]
  }
 ],
 "metadata": {
  "language_info": {
   "name": "python"
  }
 },
 "nbformat": 4,
 "nbformat_minor": 2
}
